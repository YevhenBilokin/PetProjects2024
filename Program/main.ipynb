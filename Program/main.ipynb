{
 "cells": [
  {
   "cell_type": "code",
   "execution_count": 99,
   "metadata": {},
   "outputs": [
    {
     "data": {
      "text/plain": [
       "[['apple', 5, 10],\n",
       " ['banana', 3, 15],\n",
       " ['apple', 2, 10],\n",
       " ['orange', 10, 8],\n",
       " ['banana', 7, 15]]"
      ]
     },
     "execution_count": 99,
     "metadata": {},
     "output_type": "execute_result"
    }
   ],
   "source": [
    "# Чтение файла и создание списка списков\n",
    "\n",
    "items_list = []\n",
    "\n",
    "with open('sales.txt', 'r') as file:\n",
    "    for line in file:\n",
    "        # Удаляем пробелы и перевод строки, разбиваем по запятой\n",
    "        items = line.strip().split(', ')\n",
    "\n",
    "        # Преобразуем числа из строк в целые числа\n",
    "        items[1] = int(items[1])\n",
    "        items[2] = int(items[2])\n",
    "        # Добавляем в общий список\n",
    "        items_list.append(items)\n",
    "\n",
    "items_list\n"
   ]
  },
  {
   "cell_type": "code",
   "execution_count": 107,
   "metadata": {},
   "outputs": [
    {
     "name": "stdout",
     "output_type": "stream",
     "text": [
      "['apple', 50]\n",
      "['banana', 45]\n",
      "['apple', 20]\n",
      "['orange', 80]\n",
      "['banana', 105]\n"
     ]
    }
   ],
   "source": [
    "#Общая сумма выручки\n",
    "items_earn_list = []\n",
    "def total_earn(items_list, items_earn_list):\n",
    "    for item in items_list:\n",
    "         items_earn_list.append([item[0], item[1] * item[2]])\n",
    "    return items_earn_list\n",
    "\n",
    "total_earn(items_list, items_earn_list)\n"
   ]
  }
 ],
 "metadata": {
  "kernelspec": {
   "display_name": "Python 3",
   "language": "python",
   "name": "python3"
  },
  "language_info": {
   "codemirror_mode": {
    "name": "ipython",
    "version": 3
   },
   "file_extension": ".py",
   "mimetype": "text/x-python",
   "name": "python",
   "nbconvert_exporter": "python",
   "pygments_lexer": "ipython3",
   "version": "3.9.6"
  }
 },
 "nbformat": 4,
 "nbformat_minor": 2
}
