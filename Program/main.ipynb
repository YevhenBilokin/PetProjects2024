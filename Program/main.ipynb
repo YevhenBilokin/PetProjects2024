{
 "cells": [
  {
   "cell_type": "code",
   "execution_count": null,
   "metadata": {},
   "outputs": [],
   "source": [
    "# Чтение файла и создание списка списков\n",
    "\n",
    "items_list = []\n",
    "\n",
    "with open('sales.txt', 'r') as file:\n",
    "    for line in file:\n",
    "        # Удаляем пробелы и перевод строки, разбиваем по запятой\n",
    "        items = line.strip().split(', ')\n",
    "\n",
    "        # Преобразуем числа из строк в целые числа\n",
    "        items[1] = int(items[1])\n",
    "        items[2] = int(items[2])\n",
    "        # Добавляем в общий список\n",
    "        items_list.append(items)\n",
    "\n",
    "items_list[1]\n"
   ]
  }
 ],
 "metadata": {
  "kernelspec": {
   "display_name": "Python 3",
   "language": "python",
   "name": "python3"
  },
  "language_info": {
   "codemirror_mode": {
    "name": "ipython",
    "version": 3
   },
   "file_extension": ".py",
   "mimetype": "text/x-python",
   "name": "python",
   "nbconvert_exporter": "python",
   "pygments_lexer": "ipython3",
   "version": "3.9.6"
  }
 },
 "nbformat": 4,
 "nbformat_minor": 2
}
