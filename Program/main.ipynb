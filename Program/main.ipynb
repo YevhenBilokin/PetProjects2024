{
 "cells": [
  {
   "cell_type": "code",
   "execution_count": null,
   "metadata": {},
   "outputs": [],
   "source": [
    "# Чтение файла и создание списка списков\n",
    "\n",
    "items_list = []\n",
    "\n",
    "with open('sales.txt', 'r') as file:\n",
    "    for line in file:\n",
    "        # Удаляем пробелы и перевод строки, разбиваем по запятой\n",
    "        items = line.strip().split(', ')\n",
    "\n",
    "        # Преобразуем числа из строк в целые числа\n",
    "        items[1] = int(items[1])\n",
    "        items[2] = int(items[2])\n",
    "        # Добавляем в общий список\n",
    "        items_list.append(items)\n",
    "\n",
    "items_list\n"
   ]
  },
  {
   "cell_type": "code",
   "execution_count": null,
   "metadata": {},
   "outputs": [],
   "source": [
    "#Общая сумма выручки\n",
    "items_earn_list = []\n",
    "\n",
    "def total_earn(items_list, items_earn_list):\n",
    "    for item in items_list:\n",
    "         items_earn_list.append([item[0], item[1] * item[2]])\n",
    "    return items_earn_list\n",
    "\n",
    "def earn(items_earn_list):\n",
    "    total = 0\n",
    "    for item in items_earn_list:\n",
    "        total += item[1]\n",
    "    return total\n",
    "     \n",
    "\n",
    "\n",
    "\n",
    "total_earn(items_list, items_earn_list)\n",
    "earn(items_earn_list)\n",
    "\n",
    "\n",
    "### Переделать код(цыкл for) для инициализации нового масива\n",
    "### Переделать логику програмы(Товар, количество цена)"
   ]
  },
  {
   "cell_type": "code",
   "execution_count": null,
   "metadata": {},
   "outputs": [],
   "source": [
    "#Продажи по каждому товару\n",
    "def sales_list(items_list):\n",
    "    result = {}\n",
    "    for item, count, price in items_list:\n",
    "        if item not in result:\n",
    "            result[item] = [0] \n",
    "        result[item][0] += price * count\n",
    "    return result\n",
    "\n",
    "sales_list(items_list)\n",
    "\n",
    "\n",
    "\n",
    "### Переделать логику програмы(Товар, количество цена)\n",
    "### Реализовать на основе этого функцию продажы по товарам"
   ]
  }
 ],
 "metadata": {
  "kernelspec": {
   "display_name": "Python 3",
   "language": "python",
   "name": "python3"
  },
  "language_info": {
   "codemirror_mode": {
    "name": "ipython",
    "version": 3
   },
   "file_extension": ".py",
   "mimetype": "text/x-python",
   "name": "python",
   "nbconvert_exporter": "python",
   "pygments_lexer": "ipython3",
   "version": "3.9.6"
  }
 },
 "nbformat": 4,
 "nbformat_minor": 2
}
