{
 "cells": [
  {
   "cell_type": "code",
   "execution_count": null,
   "metadata": {},
   "outputs": [],
   "source": [
    "# Чтение файла и создание списка списков\n",
    "\n",
    "items_list = []\n",
    "\n",
    "with open('sales.txt', 'r') as file:\n",
    "    for line in file:\n",
    "        # Удаляем пробелы и перевод строки, разбиваем по запятой\n",
    "        items = line.strip().split(', ')\n",
    "\n",
    "        # Преобразуем числа из строк в целые числа\n",
    "        items[1] = int(items[1])\n",
    "        items[2] = int(items[2])\n",
    "        # Добавляем в общий список\n",
    "        items_list.append(items)\n",
    "\n",
    "items_list\n"
   ]
  },
  {
   "cell_type": "code",
   "execution_count": null,
   "metadata": {},
   "outputs": [],
   "source": [
    "#Общая сумма выручки\n",
    "result = 0\n",
    "\n",
    "def check_earn(items_list, result):\n",
    "    for item, count, price in items_list:\n",
    "        result += count * price\n",
    "    return result\n",
    "\n",
    "check_earn(items_list, result)\n"
   ]
  },
  {
   "cell_type": "code",
   "execution_count": 159,
   "metadata": {},
   "outputs": [],
   "source": [
    "#Продажи по каждому товару\n",
    "def sales_list(items_list):\n",
    "    result = {}\n",
    "    for item, count, price in items_list:\n",
    "        if item in result:\n",
    "            result[item] += count\n",
    "        else:\n",
    "            result[item] = count\n",
    "        \n",
    "    return [(item, count) for item, count in result.items()]\n",
    "\n",
    "\n",
    "salesList = sales_list(items_list)\n",
    "\n"
   ]
  },
  {
   "cell_type": "code",
   "execution_count": null,
   "metadata": {},
   "outputs": [],
   "source": [
    "#Самый продаваемый товар\n",
    "def more_relevant_item(sales_list):\n",
    "    more_relevant = max(sales_list)\n",
    "    return more_relevant\n",
    "\n",
    "more_relevant_item(sales_list(items_list))\n",
    "\n",
    "\n",
    "#Рассматреть варианты с одинаковым количеством продаж"
   ]
  },
  {
   "cell_type": "code",
   "execution_count": null,
   "metadata": {},
   "outputs": [],
   "source": [
    "#Общая прибыль с каждого товара\n",
    "total_earn_list = []\n",
    "def total_earn(sales_list, total_earn_list):\n",
    "    for item, count, price in sales_list:\n",
    "        total_earn_list.append([item, count*price])\n",
    "    return total_earn_list\n",
    "\n",
    "total_earn(items_list, total_earn_list)\n"
   ]
  },
  {
   "cell_type": "code",
   "execution_count": null,
   "metadata": {},
   "outputs": [],
   "source": [
    "#Поиск товаров, которые продались больше определённого количества\n",
    "c = int(input(\"text = \"))\n",
    "def more_sales(items_list,c):\n",
    "    result = []\n",
    "    for item, count in items_list:\n",
    "        if count >= c:\n",
    "            result.append(item)\n",
    "    return result\n",
    "\n",
    "more_sales(salesList,c)"
   ]
  },
  {
   "cell_type": "code",
   "execution_count": null,
   "metadata": {},
   "outputs": [],
   "source": [
    "\n",
    "def print_sales_table(items_list):\n",
    "        print(f\"{'Товар':<15} {'Количество':<15} {'Цена':<15}\")\n",
    "        print(\"-\" * 45)\n",
    "\n",
    "        for item, count, price in items_list:\n",
    "            print(f\"{item:<15} {count:<15} {price:<15}\")\n",
    "\n",
    "print_sales_table(items_list)"
   ]
  }
 ],
 "metadata": {
  "kernelspec": {
   "display_name": "Python 3",
   "language": "python",
   "name": "python3"
  },
  "language_info": {
   "codemirror_mode": {
    "name": "ipython",
    "version": 3
   },
   "file_extension": ".py",
   "mimetype": "text/x-python",
   "name": "python",
   "nbconvert_exporter": "python",
   "pygments_lexer": "ipython3",
   "version": "3.9.6"
  }
 },
 "nbformat": 4,
 "nbformat_minor": 2
}
